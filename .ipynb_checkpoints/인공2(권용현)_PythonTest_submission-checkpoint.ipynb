{
 "cells": [
  {
   "cell_type": "markdown",
   "metadata": {},
   "source": [
    "### 파이썬 활용 라이브러리 & 시각화 평가 답안지\n",
    "- 파일명에 본인 성명 기입하시오(Enter your name in the file name.)\n",
    "- 수업 중 배웠던 내용을 상기하여 최선을 다해 문제 풀어주세요.(Recall what you learned in class and do your best to solve the problem.)"
   ]
  },
  {
   "cell_type": "markdown",
   "metadata": {},
   "source": [
    "#### Question1\n",
    "다음은 어떤 차트에 대한 설명이다. 각 빈칸에 알맞은 답을 작성하시오."
   ]
  },
  {
   "cell_type": "markdown",
   "metadata": {},
   "source": [
    "① : 선 그래프(Line plot)\n",
    "② : plt.plot()"
   ]
  },
  {
   "cell_type": "markdown",
   "metadata": {},
   "source": [
    "#### Question2"
   ]
  },
  {
   "cell_type": "markdown",
   "metadata": {},
   "source": [
    "다음은 어떤 차트에 대한 출력물이다. 문제를 읽고 알맞은 답을 작성하시오. "
   ]
  },
  {
   "cell_type": "markdown",
   "metadata": {},
   "source": [
    "1) 이 차트의 명칭을 작성하시오."
   ]
  },
  {
   "cell_type": "markdown",
   "metadata": {},
   "source": [
    "막대 그래프(Bar plot)"
   ]
  },
  {
   "cell_type": "markdown",
   "metadata": {},
   "source": [
    "2) 이 차트를 matplotlib.pyplot 라이브러리를 사용하여 시각화하기 위해서 어떤 함수를 사용하는지 작성하시오. "
   ]
  },
  {
   "cell_type": "markdown",
   "metadata": {},
   "source": [
    "plt.bar()"
   ]
  },
  {
   "cell_type": "markdown",
   "metadata": {},
   "source": [
    "#### Question3\n",
    "아래와 같이 리스트를 만들고 요소의 짝수/홀수를 구분하여 개수를 세는 프로그램을 작성하시오. "
   ]
  },
  {
   "cell_type": "code",
   "execution_count": 1,
   "metadata": {},
   "outputs": [
    {
     "name": "stdout",
     "output_type": "stream",
     "text": [
      "짝수 2개, 홀수 7개\n"
     ]
    }
   ],
   "source": [
    "list1 = [1, 50, 27,19, 37, 33, 5, 3, 48]\n",
    "\n",
    "def evenodd(list):\n",
    "    even = 0\n",
    "    odd = 0\n",
    "    for i in list:\n",
    "        if i % 2 == 0:\n",
    "            even += 1\n",
    "        else:\n",
    "            odd += 1\n",
    "    print(f'짝수 {even}개, 홀수 {odd}개')\n",
    "    \n",
    "evenodd(list1)"
   ]
  },
  {
   "cell_type": "markdown",
   "metadata": {},
   "source": [
    "#### Question4\n",
    "다음 score_list에 들어있는 데이터를 이용해 아래와 같이 성적표를 만드는 프로그램을 작성하시오. (단, 학생의 숫자가 늘어나도 동작할 수 있도록 고려하시오.)"
   ]
  },
  {
   "cell_type": "code",
   "execution_count": 21,
   "metadata": {},
   "outputs": [
    {
     "name": "stdout",
     "output_type": "stream",
     "text": [
      "=================================================\n",
      "이름\tPython\tJava\tDB\t평균\t학점\n",
      "=================================================\n",
      "김미희\t89\t78\t99\t88\tB\n",
      "서대희\t67\t88\t77\t77\tC\n",
      "강예진\t100\t55\t96\t83\tB\n",
      "손지영\t75\t100\t60\t78\tC\n",
      "=================================================\n",
      "평균\t82\t80\t83\n"
     ]
    }
   ],
   "source": [
    "score_list = [['김미희', 89,78,99],\n",
    "              ['서대희', 67,88,77],\n",
    "            ['강예진', 100,55,96],\n",
    "            ['손지영',75,100,60]]\n",
    "\n",
    "print(\"=\"*49)\n",
    "print(\"이름\\tPython\\tJava\\tDB\\t평균\\t학점\")\n",
    "print(\"=\"*49)\n",
    "# 학생별 평균 및 학점 출력\n",
    "total = 0 ; grade = ''\n",
    "for score in score_list:\n",
    "    total = (score[1]+score[2]+score[3])//3\n",
    "    if total >= 90:\n",
    "        grade = \"A\"\n",
    "    elif total >= 80:\n",
    "        grade = \"B\"\n",
    "    elif total >= 70:\n",
    "        grade = \"C\"\n",
    "    elif total >= 60:\n",
    "        grade = \"D\"\n",
    "    else:\n",
    "        grade = \"F\"\n",
    "    print(f'{score[0]}\\t{score[1]}\\t{score[2]}\\t{score[3]}\\t{total}\\t{grade}')\n",
    "print(\"=\"*49)\n",
    "\n",
    "# 과목별 평균 출력을 위해 총합 담을 변수 선언\n",
    "# += 는 선언이 되어 있어야 누적이 가능함\n",
    "p_sum = j_sum = d_sum = 0\n",
    "for score in score_list:\n",
    "    p_sum += score[1] # python 과목 인덱스 1  , 과목별 순서는 변하지도 않고 늘어나지도 않음\n",
    "    j_sum += score[2] # java 과목 인덱스 2\n",
    "    d_sum += score[3] # db 과목 인덱스 3\n",
    "    \n",
    "print(f'평균\\t{p_sum//len(score_list)}\\t{j_sum//len(score_list)}\\t{d_sum//len(score_list)}')"
   ]
  },
  {
   "cell_type": "code",
   "execution_count": 26,
   "metadata": {},
   "outputs": [
    {
     "name": "stdout",
     "output_type": "stream",
     "text": [
      "=============================================\n",
      "이름\tPython\tJava\tDB\t평균\t학점\n",
      "=============================================\n",
      "김미희\t89\t78\t99\t88.66666666666667\tB\n",
      "=============================================\n"
     ]
    }
   ],
   "source": [
    "#     list = [['김미희', 89,78,99],\n",
    "#               ['서대희', 67,88,77],\n",
    "#             ['강예진', 100,55,96],\n",
    "#             ['손지영',75,100,60]]\n",
    "    \n",
    "#     nm = list[0][0]\n",
    "#     py = list[0][1]\n",
    "#     jv = list[0][2]\n",
    "#     db = list[0][3]\n",
    "#     avr = (py+jv+db)/3\n",
    "#     grade = ''\n",
    "    \n",
    "#     if avr>=90:\n",
    "#         grade = 'A'\n",
    "#     elif avr>=80:\n",
    "#         grade = 'B'\n",
    "#     elif avr>=70:\n",
    "#         grade = 'C'\n",
    "#     elif avr>=60:\n",
    "#         grade = 'D'\n",
    "#     else:\n",
    "#         grade = 'F'\n",
    "    \n",
    "#     print(\"=============================================\")\n",
    "#     print(\"이름\\tPython\\tJava\\tDB\\t평균\\t학점\")\n",
    "#     print(\"=============================================\")\n",
    "#     print(f'{nm}\\t{py}\\t{jv}\\t{db}\\t{avr}\\t{grade}')\n",
    "#     print(\"=============================================\")\n",
    "\n"
   ]
  },
  {
   "cell_type": "markdown",
   "metadata": {},
   "source": [
    "#### Question5\n",
    " X, Y1, Y2 리스트 자료를 활용하여 [실행결과]와 같은 그래프를 출력하는 프로그램을 작성하시오.  (단, 두 차트는 빨간색과 파란색을 통해 구별 하시오.)"
   ]
  },
  {
   "cell_type": "code",
   "execution_count": 21,
   "metadata": {},
   "outputs": [
    {
     "data": {
      "text/plain": [
       "Text(0, 0.5, 'Y')"
      ]
     },
     "execution_count": 21,
     "metadata": {},
     "output_type": "execute_result"
    },
    {
     "data": {
      "image/png": "[encoded data removed]",
      "text/plain": [
       "<Figure size 640x480 with 1 Axes>"
      ]
     },
     "metadata": {},
     "output_type": "display_data"
    }
   ],
   "source": [
    "import matplotlib.pyplot as plt\n",
    "\n",
    "X = [2,3,4,5,6,7,8]\n",
    "Y1 = [5,7,3,9,1,8,6]\n",
    "Y2 = [9,5,7,2,3,7,1]\n",
    "\n",
    "plt.plot(X,Y1, c = 'red', label = 'Y1')\n",
    "plt.plot(X,Y2, c = 'blue', label = 'Y2')\n",
    "plt.grid()\n",
    "plt.legend()\n",
    "plt.xlabel('X')\n",
    "plt.ylabel('Y')"
   ]
  },
  {
   "cell_type": "markdown",
   "metadata": {},
   "source": [
    "#### Question6\n",
    "Traffic_Accident_2017.csv 데이터를 이용하여 ‘차대 사람’인 사건 중 야간에 발생한 사건에 대해 아래 주어진 조건을 지켜 다음과 같이 시각화 하시오.\n",
    "\n",
    "※ 조건 내용 반드시 확인할 것  \n",
    " 조건 1. 사고유형_대분류가 ‘차대사람’ 이면서 발생시간대가 ‘야간’인 경우의 사고 건수 카운트  \n",
    " 조건 2. y축의 범위는 0~200으로 설정할 것  \n",
    " 조건 3. 차트 내부 글씨는 한글로 표시할 것  "
   ]
  },
  {
   "cell_type": "code",
   "execution_count": 32,
   "metadata": {},
   "outputs": [
    {
     "data": {
      "text/plain": [
       "<BarContainer object of 7 artists>"
      ]
     },
     "execution_count": 32,
     "metadata": {},
     "output_type": "execute_result"
    },
    {
     "data": {
      "image/png": "[encoded data removed]",
      "text/plain": [
       "<Figure size 640x480 with 1 Axes>"
      ]
     },
     "metadata": {},
     "output_type": "display_data"
    }
   ],
   "source": [
    "import numpy as np \n",
    "import pandas as pd\n",
    "\n",
    "from matplotlib import font_manager, rc\n",
    "font_path = 'C:\\Windows\\Fonts\\malgun.ttf'\n",
    "font_name = font_manager.FontProperties(fname = font_path).get_name()\n",
    "rc('font', family = font_name)\n",
    "acc_data = pd.read_csv('./data/Traffic_Accident_2017.csv', encoding = 'euc-kr')\n",
    "\n",
    "car_acc = acc_data.query(\"사고유형_대분류 == '차대사람'\")\n",
    "nt_car_acc = car_acc.query(\"주야 == '야간'\")\n",
    "final = nt_car_acc[['요일', '발생년']].groupby('요일').agg(day = ('요일', 'count'))\n",
    "\n",
    "day = ['월', '화', '수','목','금','토','일']\n",
    "\n",
    "final = final.reindex(day)\n",
    "final \n",
    "\n",
    "# jfinal = final['day']\n",
    "\n",
    "\n",
    "\n",
    "jfinal = final['day']\n",
    "# final['day'].values\n",
    "# jfinal = final['day'].values\n",
    "\n",
    "# final['day'].values\n",
    "# # jfinal = final.reset_index()\n",
    "# # jfinal\n",
    "# # # jfinal = jfinal['day']\n",
    "plt.bar(day, jfinal)\n",
    "\n",
    "# # reset_index() !!!! 중요"
   ]
  },
  {
   "cell_type": "markdown",
   "metadata": {},
   "source": [
    "### 수고하셨습니다 ."
   ]
  }
 ],
 "metadata": {
  "kernelspec": {
   "display_name": "Python 3 (ipykernel)",
   "language": "python",
   "name": "python3"
  },
  "language_info": {
   "codemirror_mode": {
    "name": "ipython",
    "version": 3
   },
   "file_extension": ".py",
   "mimetype": "text/x-python",
   "name": "python",
   "nbconvert_exporter": "python",
   "pygments_lexer": "ipython3",
   "version": "3.11.3"
  },
  "toc": {
   "base_numbering": 1,
   "nav_menu": {},
   "number_sections": true,
   "sideBar": true,
   "skip_h1_title": false,
   "title_cell": "Table of Contents",
   "title_sidebar": "Contents",
   "toc_cell": false,
   "toc_position": {},
   "toc_section_display": true,
   "toc_window_display": false
  },
  "varInspector": {
   "cols": {
    "lenName": 16,
    "lenType": 16,
    "lenVar": 40
   },
   "kernels_config": {
    "python": {
     "delete_cmd_postfix": "",
     "delete_cmd_prefix": "del ",
     "library": "var_list.py",
     "varRefreshCmd": "print(var_dic_list())"
    },
    "r": {
     "delete_cmd_postfix": ") ",
     "delete_cmd_prefix": "rm(",
     "library": "var_list.r",
     "varRefreshCmd": "cat(var_dic_list()) "
    }
   },
   "types_to_exclude": [
    "module",
    "function",
    "builtin_function_or_method",
    "instance",
    "_Feature"
   ],
   "window_display": false
  }
 },
 "nbformat": 4,
 "nbformat_minor": 4
}
